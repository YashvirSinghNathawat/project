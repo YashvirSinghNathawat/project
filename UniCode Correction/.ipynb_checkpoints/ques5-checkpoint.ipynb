{
 "cells": [
  {
   "cell_type": "code",
   "execution_count": 9,
   "id": "fc8d0cf6",
   "metadata": {},
   "outputs": [],
   "source": [
    "with open('ques_3.txt', encoding='utf-8') as f:\n",
    "    # Read the content of the file and split it into lines\n",
    "    dataset = f.read().splitlines()"
   ]
  },
  {
   "cell_type": "code",
   "execution_count": 15,
   "id": "de79be7e",
   "metadata": {},
   "outputs": [
    {
     "name": "stdout",
     "output_type": "stream",
     "text": [
      "['अगर आपको', 'व्यापार में', 'सफलता', 'मिल रही है', 'तो अपने', 'घर के', 'उत्तर पूर्व कोने को', 'गंगाजल से', 'धोकर', 'वहां', 'हल्दी का', 'स्वास्तिक', 'बनाये।', 'फिर', 'उसकी', 'पूजा करे', 'गुड़ का', 'भोग', 'लगाए।', 'ऐसा', 'करने से', 'आपके', 'व्यापार में', 'सफलता', 'बढेगी', 'साथ ही', 'आप', 'जीवन में', 'सफलता की', 'सीढी भी', 'चढेंगे।']\n"
     ]
    }
   ],
   "source": [
    "data = []\n",
    "length = len(dataset)\n",
    "question_arr = []\n",
    "response_arr = []\n",
    "i=0\n",
    "while i<length:\n",
    "    question_arr.append(dataset[i][3:])\n",
    "    i+=1\n",
    "    responses = dataset[i].split(',')\n",
    "    cleaned_response = [response.strip() for response in responses]\n",
    "    response_arr.append(cleaned_response)\n",
    "    i+=2\n",
    "print(response_arr[1])"
   ]
  },
  {
   "cell_type": "code",
   "execution_count": null,
   "id": "9a51cdca",
   "metadata": {},
   "outputs": [],
   "source": [
    "# Cleaning response_arr\n",
    "response_arr"
   ]
  }
 ],
 "metadata": {
  "kernelspec": {
   "display_name": "Python 3 (ipykernel)",
   "language": "python",
   "name": "python3"
  },
  "language_info": {
   "codemirror_mode": {
    "name": "ipython",
    "version": 3
   },
   "file_extension": ".py",
   "mimetype": "text/x-python",
   "name": "python",
   "nbconvert_exporter": "python",
   "pygments_lexer": "ipython3",
   "version": "3.11.5"
  }
 },
 "nbformat": 4,
 "nbformat_minor": 5
}
